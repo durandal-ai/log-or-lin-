{
 "cells": [
  {
   "cell_type": "code",
   "execution_count": 102,
   "id": "631f13ee",
   "metadata": {},
   "outputs": [],
   "source": [
    "from sklearn.linear_model import LogisticRegression\n",
    "import gradio as gr\n",
    "import pandas as pd\n",
    "import numpy as np\n",
    "import pickle\n",
    "\n",
    "#Loading the model\n",
    "model_loaded = pickle.load(open('trained_model_logreg.pkl', 'rb'))\n",
    "\n",
    "#Defining a function for prediction\n",
    "def predict(x,y):\n",
    "    \n",
    "    #Converting input values to np.ndarray\n",
    "    x_array = np.array([float(x),float(y)])\n",
    "    \n",
    "    #Predicting\n",
    "    prediction = model_loaded.predict([x_array])\n",
    "    \n",
    "    if prediction:\n",
    "        return \"POSITIVE ANSWER\"\n",
    "    else:\n",
    "        return \"NEGATIVE ANSWER\"\n",
    "    return"
   ]
  },
  {
   "cell_type": "code",
   "execution_count": 103,
   "id": "95865ed2",
   "metadata": {},
   "outputs": [
    {
     "name": "stdout",
     "output_type": "stream",
     "text": [
      "Running on local URL:  http://127.0.0.1:7911\n",
      "\n",
      "To create a public link, set `share=True` in `launch()`.\n"
     ]
    },
    {
     "data": {
      "text/html": [
       "<div><iframe src=\"http://127.0.0.1:7911/\" width=\"100%\" height=\"500\" allow=\"autoplay; camera; microphone; clipboard-read; clipboard-write;\" frameborder=\"0\" allowfullscreen></iframe></div>"
      ],
      "text/plain": [
       "<IPython.core.display.HTML object>"
      ]
     },
     "metadata": {},
     "output_type": "display_data"
    },
    {
     "data": {
      "text/plain": []
     },
     "execution_count": 103,
     "metadata": {},
     "output_type": "execute_result"
    }
   ],
   "source": [
    "#Launching a demo\n",
    "demo = gr.Interface(\n",
    "    fn=predict,\n",
    "    inputs=[\"text\", \"text\"],\n",
    "    outputs=\"text\",\n",
    "    title='Simple Logistic Regression'\n",
    ")\n",
    "\n",
    "demo.launch()"
   ]
  }
 ],
 "metadata": {
  "kernelspec": {
   "display_name": "Python 3 (ipykernel)",
   "language": "python",
   "name": "python3"
  },
  "language_info": {
   "codemirror_mode": {
    "name": "ipython",
    "version": 3
   },
   "file_extension": ".py",
   "mimetype": "text/x-python",
   "name": "python",
   "nbconvert_exporter": "python",
   "pygments_lexer": "ipython3",
   "version": "3.10.13"
  }
 },
 "nbformat": 4,
 "nbformat_minor": 5
}
