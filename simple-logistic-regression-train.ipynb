{
 "cells": [
  {
   "cell_type": "code",
   "execution_count": 29,
   "id": "242ab5ae",
   "metadata": {},
   "outputs": [],
   "source": [
    "from sklearn.linear_model import LogisticRegression\n",
    "import numpy as np\n",
    "import pickle\n",
    "\n",
    "#rng = int(np.random.choice(10, 1))\n",
    "#print('RNG SAYS: Your number today is ',random)\n",
    "\n",
    "#Defining arrays for training\n",
    "x_train = np.array([[0.5, 1.5], [1, 1], [1.5, 0.5], [1, 0.5], [2, 0], [2, 0.5], [1, 2], [2, 2], [0.5, 3], [2, 1.5], [1, 2.5], [3, 1]])\n",
    "y_train = np.array([0, 0, 0, 0, 0, 0, 1, 1, 1, 1, 1, 1])\n",
    "\n",
    "#Training model\n",
    "model = LogisticRegression()\n",
    "model.fit(x_train, y_train)\n",
    "\n",
    "#Dumping the model\n",
    "pickle.dump(model, open('trained_model_logreg.pkl', 'wb'))"
   ]
  }
 ],
 "metadata": {
  "kernelspec": {
   "display_name": "Python 3 (ipykernel)",
   "language": "python",
   "name": "python3"
  },
  "language_info": {
   "codemirror_mode": {
    "name": "ipython",
    "version": 3
   },
   "file_extension": ".py",
   "mimetype": "text/x-python",
   "name": "python",
   "nbconvert_exporter": "python",
   "pygments_lexer": "ipython3",
   "version": "3.10.13"
  }
 },
 "nbformat": 4,
 "nbformat_minor": 5
}
