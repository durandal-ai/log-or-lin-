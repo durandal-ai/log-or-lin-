{
 "cells": [
  {
   "cell_type": "code",
   "execution_count": 3,
   "id": "242ab5ae",
   "metadata": {},
   "outputs": [
    {
     "name": "stderr",
     "output_type": "stream",
     "text": [
      "C:\\Users\\123\\.conda\\envs\\conda_3_10\\lib\\site-packages\\sklearn\\utils\\validation.py:1183: DataConversionWarning: A column-vector y was passed when a 1d array was expected. Please change the shape of y to (n_samples, ), for example using ravel().\n",
      "  y = column_or_1d(y, warn=True)\n"
     ]
    }
   ],
   "source": [
    "from sklearn.linear_model import LogisticRegression\n",
    "import pandas as pd\n",
    "import numpy as np\n",
    "import pickle\n",
    "\n",
    "#rng = int(np.random.choice(10, 1))\n",
    "#print('RNG SAYS: Your number today is ',random)\n",
    "\n",
    "frame = pd.read_csv(\"frame2.csv\")\n",
    "#df.loc[1, 'two'] = rng\n",
    "\n",
    "model = LogisticRegression()\n",
    "y_train = pd.DataFrame(frame.one)\n",
    "x_train = pd.DataFrame(frame.two)\n",
    "model.fit(x_train, y_train)\n",
    "\n",
    "pickle.dump(model, open('trained_model_logreg.pkl', 'wb'))"
   ]
  },
  {
   "cell_type": "code",
   "execution_count": null,
   "id": "37709903",
   "metadata": {},
   "outputs": [],
   "source": []
  }
 ],
 "metadata": {
  "kernelspec": {
   "display_name": "Python 3 (ipykernel)",
   "language": "python",
   "name": "python3"
  },
  "language_info": {
   "codemirror_mode": {
    "name": "ipython",
    "version": 3
   },
   "file_extension": ".py",
   "mimetype": "text/x-python",
   "name": "python",
   "nbconvert_exporter": "python",
   "pygments_lexer": "ipython3",
   "version": "3.10.13"
  }
 },
 "nbformat": 4,
 "nbformat_minor": 5
}
